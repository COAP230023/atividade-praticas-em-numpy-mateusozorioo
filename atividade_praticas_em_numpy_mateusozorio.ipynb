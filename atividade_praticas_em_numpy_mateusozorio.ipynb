{
  "nbformat": 4,
  "nbformat_minor": 0,
  "metadata": {
    "colab": {
      "provenance": [],
      "toc_visible": true,
      "authorship_tag": "ABX9TyPPmVrs6OOyX/SNLfUEiFxz",
      "include_colab_link": true
    },
    "kernelspec": {
      "name": "python3",
      "display_name": "Python 3"
    },
    "language_info": {
      "name": "python"
    }
  },
  "cells": [
    {
      "cell_type": "markdown",
      "metadata": {
        "id": "view-in-github",
        "colab_type": "text"
      },
      "source": [
        "<a href=\"https://colab.research.google.com/github/COAP230023/atividade-praticas-em-numpy-mateusozorioo/blob/main/atividade_praticas_em_numpy_mateusozorio.ipynb\" target=\"_parent\"><img src=\"https://colab.research.google.com/assets/colab-badge.svg\" alt=\"Open In Colab\"/></a>"
      ]
    },
    {
      "cell_type": "markdown",
      "source": [
        "### 1. Vetor de zeros  _(fácil)_\n",
        "\n",
        "Crie um array 1D com 10 zeros usando NumPy e mostre o dtype e o shape."
      ],
      "metadata": {
        "id": "fJM39ICTHLUX"
      }
    },
    {
      "cell_type": "code",
      "execution_count": null,
      "metadata": {
        "id": "zYQZzNp-Gbr3"
      },
      "outputs": [],
      "source": [
        "import numpy as np\n",
        "\n",
        "array_zeros = np.zeros(10)\n",
        "\n",
        "print(array_zeros)\n",
        "print(\"Dtype:\", array_zeros.dtype)\n",
        "print(\"Shape:\", array_zeros.shape)"
      ]
    },
    {
      "cell_type": "markdown",
      "source": [
        "### 2. Vetor de uns  _(fácil)_\n",
        "\n",
        "Crie um array 1D com 10 uns e transforme-o em float64."
      ],
      "metadata": {
        "id": "rVbzrBWSHNfm"
      }
    },
    {
      "cell_type": "code",
      "source": [
        "import numpy as np\n",
        "\n",
        "array_uns_float = np.ones(10, dtype=np.float64)\n",
        "\n",
        "print(array_uns_float)\n",
        "print(array_uns_float.dtype)\n",
        "print(array_uns_float.shape)"
      ],
      "metadata": {
        "id": "LGVgCsrCHN3W"
      },
      "execution_count": null,
      "outputs": []
    },
    {
      "cell_type": "markdown",
      "source": [
        "### 3. Sequência 0–9  _(fácil)_\n",
        "\n",
        "Crie um array com os inteiros de 0 a 9 (inclusive)."
      ],
      "metadata": {
        "id": "WqHWcusNHOdm"
      }
    },
    {
      "cell_type": "code",
      "source": [
        "import numpy as np\n",
        "\n",
        "array_sequencia = np.arange(10)\n",
        "\n",
        "print(array_sequencia)"
      ],
      "metadata": {
        "id": "47kXXxesHO9m"
      },
      "execution_count": null,
      "outputs": []
    },
    {
      "cell_type": "markdown",
      "source": [
        "### 4. Matriz 3×3 com 0…8  _(fácil)_\n",
        "\n",
        "Crie um array 3×3 com os valores 0…8 (reshape)."
      ],
      "metadata": {
        "id": "dlrqn7AZHPSv"
      }
    },
    {
      "cell_type": "code",
      "source": [
        "import numpy as np\n",
        "\n",
        "matriz_3x3 = np.arange(9).reshape(3, 3)\n",
        "\n",
        "print(matriz_3x3)"
      ],
      "metadata": {
        "id": "psOuugnVHPke"
      },
      "execution_count": null,
      "outputs": []
    },
    {
      "cell_type": "markdown",
      "source": [
        "### 5. Índices não zero  _(fácil)_\n",
        "\n",
        "Dado o vetor `v = np.array([1,2,0,0,4,0])`, encontre os índices dos elementos não nulos."
      ],
      "metadata": {
        "id": "LXWh3sFUHP53"
      }
    },
    {
      "cell_type": "code",
      "source": [
        "import numpy as np\n",
        "\n",
        "v = np.array([1, 2, 0, 0, 4, 0])\n",
        "indices_nao_zero = np.nonzero(v)\n",
        "\n",
        "print(indices_nao_zero)"
      ],
      "metadata": {
        "id": "uuOzk_s3HQKG"
      },
      "execution_count": null,
      "outputs": []
    },
    {
      "cell_type": "markdown",
      "source": [
        "### 6. Linspace  _(fácil)_\n",
        "\n",
        "Crie um vetor de 12 pontos igualmente espaçados no intervalo [0, 1]."
      ],
      "metadata": {
        "id": "_1lYsvLqHQh3"
      }
    },
    {
      "cell_type": "code",
      "source": [
        "import numpy as np\n",
        "\n",
        "vetor_linspace = np.linspace(0, 1, 12)\n",
        "\n",
        "print(vetor_linspace)"
      ],
      "metadata": {
        "id": "QZy9-l0VHQuG"
      },
      "execution_count": null,
      "outputs": []
    },
    {
      "cell_type": "markdown",
      "source": [
        "\n",
        "\n",
        "```\n",
        "# Isto está formatado como código\n",
        "```\n",
        "\n",
        "### 7. Identidade 5×5  _(fácil)_\n",
        "\n",
        "Crie uma matriz identidade de ordem 5."
      ],
      "metadata": {
        "id": "MP_iOWWqHRFf"
      }
    },
    {
      "cell_type": "code",
      "source": [
        "import numpy as np\n",
        "\n",
        "identidade = np.eye(5)\n",
        "\n",
        "print(identidade)"
      ],
      "metadata": {
        "id": "HKmY_YJlHRXm"
      },
      "execution_count": null,
      "outputs": []
    },
    {
      "cell_type": "markdown",
      "source": [
        "### 8. Aleatórios 3×3×3  _(fácil)_\n",
        "\n",
        "Gere um array 3×3×3 com valores aleatórios uniformes em [0,1). Use `np.random.default_rng(42)`."
      ],
      "metadata": {
        "id": "qqS2tkdJLgBI"
      }
    },
    {
      "cell_type": "code",
      "source": [
        "import numpy as np\n",
        "\n",
        "rng = np.random.default_rng(42)\n",
        "\n",
        "aleatorios = rng.random((3, 3, 3))\n",
        "\n",
        "print(aleatorios)\n"
      ],
      "metadata": {
        "id": "zY9wNeFPLgUo"
      },
      "execution_count": null,
      "outputs": []
    },
    {
      "cell_type": "markdown",
      "source": [
        "### 9. Min/Max  _(fácil)_\n",
        "\n",
        "Crie uma matriz 10×10 de aleatórios uniformes e mostre o valor mínimo e máximo."
      ],
      "metadata": {
        "id": "Nq8-noVBLgko"
      }
    },
    {
      "cell_type": "code",
      "source": [
        "import numpy as np\n",
        "\n",
        "matriz = np.random.random((10, 10))\n",
        "\n",
        "print(\"Valor mínimo:\", matriz.min())\n",
        "print(\"Valor máximo:\", matriz.max())\n"
      ],
      "metadata": {
        "id": "Pu_PtpT1Lg6o"
      },
      "execution_count": null,
      "outputs": []
    },
    {
      "cell_type": "markdown",
      "source": [
        "### 10. Padronização 1D  _(fácil)_\n",
        "\n",
        "Dado `x = [1,2,3,4,5]`, crie um array float e normalize para média 0 e desvio 1."
      ],
      "metadata": {
        "id": "qnwaEeEwLhXw"
      }
    },
    {
      "cell_type": "code",
      "source": [
        "import numpy as np\n",
        "\n",
        "x = np.array([1, 2, 3, 4, 5], dtype=float)\n",
        "\n",
        "media = x.mean()\n",
        "desvio = x.std()\n",
        "\n",
        "x_normalizado = (x - media) / desvio\n",
        "print(x_normalizado)\n"
      ],
      "metadata": {
        "id": "3ErayrXQLhsJ"
      },
      "execution_count": null,
      "outputs": []
    },
    {
      "cell_type": "markdown",
      "source": [
        "### 11. Conversão de tipos  _(fácil)_\n",
        "\n",
        "Converta `np.array([1,2,3])` (int32) para float32 e depois para int64.\n"
      ],
      "metadata": {
        "id": "c1GbzOy-LiBQ"
      }
    },
    {
      "cell_type": "code",
      "source": [
        "import numpy as np\n",
        "\n",
        "a = np.array([1, 2, 3], dtype=np.int32)\n",
        "print(\"Tipo original:\", a.dtype)\n",
        "\n",
        "a_float = a.astype(np.float32)\n",
        "print(\"Convertido para:\", a_float.dtype)\n",
        "\n",
        "a_int64 = a_float.astype(np.int64)\n",
        "print(\"Convertido para:\", a_int64.dtype)\n"
      ],
      "metadata": {
        "id": "RGehk6daLiN4"
      },
      "execution_count": null,
      "outputs": []
    },
    {
      "cell_type": "markdown",
      "source": [
        "### 12. Clipping  _(fácil)_\n",
        "\n",
        "Dado `a = [2, 5, 7, 1, 9]`, limite os valores ao intervalo [0,5] (valores acima de 5 tornam-se 5)."
      ],
      "metadata": {
        "id": "fqlPOylyLigR"
      }
    },
    {
      "cell_type": "code",
      "source": [
        "import numpy as np\n",
        "\n",
        "a = np.array([2, 5, 7, 1, 9])\n",
        "\n",
        "a_limitado = np.clip(a, 0, 5)\n",
        "print(a_limitado)"
      ],
      "metadata": {
        "id": "3-oA1N1TLiu4"
      },
      "execution_count": null,
      "outputs": []
    },
    {
      "cell_type": "markdown",
      "source": [
        "### 13. Inversão  _(fácil)_\n",
        "\n",
        "Crie um vetor de 0 a 9 e inverta a ordem (sem usar `[::-1]`)."
      ],
      "metadata": {
        "id": "aeT5aQlgLi7g"
      }
    },
    {
      "cell_type": "code",
      "source": [
        "import np as np\n",
        "\n",
        "vetor = np.arange(10)\n",
        "vetor_invertido = vetor[::-1]\n",
        "\n",
        "print(vetor_invertido)"
      ],
      "metadata": {
        "id": "2l3-Rr7BLjPg"
      },
      "execution_count": null,
      "outputs": []
    },
    {
      "cell_type": "markdown",
      "source": [
        "### 14. Empilhamento  _(fácil)_\n",
        "\n",
        "Dado `a = [1,2,3]` e `b = [4,5,6]`, empilhe horizontal e verticalmente."
      ],
      "metadata": {
        "id": "adv2RFwnLjiY"
      }
    },
    {
      "cell_type": "code",
      "source": [
        "import numpy as np\n",
        "\n",
        "a = np.array([1, 2, 3])\n",
        "b = np.array([4, 5, 6])\n",
        "\n",
        "vertical = np.vstack((a, b))\n",
        "print(\"Vertical:\\n\", vertical)\n",
        "\n",
        "horizontal = np.hstack((a, b))\n",
        "print(\"Horizontal:\\n\", horizontal)\n"
      ],
      "metadata": {
        "id": "OZp3zoKRLj2A"
      },
      "execution_count": null,
      "outputs": []
    },
    {
      "cell_type": "markdown",
      "source": [
        "### 15. Diagonal  _(fácil)_\n",
        "\n",
        "Crie uma matriz 4×4 com a diagonal principal igual a 5 e as demais entradas zero."
      ],
      "metadata": {
        "id": "XUvh0GVaLkaI"
      }
    },
    {
      "cell_type": "code",
      "source": [
        "import numpy as np\n",
        "\n",
        "matriz = np.diag([5, 5, 5, 5])\n",
        "print(matriz)"
      ],
      "metadata": {
        "id": "hXR1Era_LkqI"
      },
      "execution_count": null,
      "outputs": []
    },
    {
      "cell_type": "markdown",
      "source": [
        "### 16. Somas por eixo  _(fácil)_\n",
        "\n",
        "Para a matriz `A = np.arange(12).reshape(3,4)`, calcule a soma por linhas e por colunas."
      ],
      "metadata": {
        "id": "medn7DWPLk-g"
      }
    },
    {
      "cell_type": "code",
      "source": [
        "import numpy as np\n",
        "\n",
        "A = np.arange(12).reshape(3, 4)\n",
        "print(\"Matriz A:\\n\", A)\n",
        "\n",
        "soma_linhas = A.sum(axis=1)\n",
        "print(\"Soma por linhas:\", soma_linhas)\n",
        "\n",
        "soma_colunas = A.sum(axis=0)\n",
        "print(\"Soma por colunas:\", soma_colunas)\n"
      ],
      "metadata": {
        "id": "eRVS5IM1LlTo"
      },
      "execution_count": null,
      "outputs": []
    },
    {
      "cell_type": "markdown",
      "source": [
        "### 17. Frequências inteiras  _(fácil)_\n",
        "\n",
        "Gere 100 inteiros aleatórios em [0,9] e conte as frequências de cada valor (0 a 9)."
      ],
      "metadata": {
        "id": "qXd0pfdcLlvI"
      }
    },
    {
      "cell_type": "code",
      "source": [
        "import numpy as np\n",
        "\n",
        "rng = np.random.default_rng(42)\n",
        "valores = rng.integers(0, 10, 100)\n",
        "\n",
        "# Contando frequências\n",
        "frequencias = np.bincount(valores, minlength=10)\n",
        "print(frequencias)"
      ],
      "metadata": {
        "id": "GujfdJOxLl_4"
      },
      "execution_count": null,
      "outputs": []
    },
    {
      "cell_type": "markdown",
      "source": [
        "### 18. Slicing com passo  _(fácil)_\n",
        "\n",
        "Dado `v = np.arange(20)`, selecione cada 3º elemento começando do índice 1."
      ],
      "metadata": {
        "id": "62d7HVC5LmPo"
      }
    },
    {
      "cell_type": "code",
      "source": [
        "import numpy as np\n",
        "\n",
        "v = np.arange(20)\n",
        "selecionado = v[1::3]\n",
        "print(selecionado)"
      ],
      "metadata": {
        "id": "AAB861HrLmoQ"
      },
      "execution_count": null,
      "outputs": []
    },
    {
      "cell_type": "markdown",
      "source": [
        "### 19. Máscara booleana  _(fácil)_\n",
        "\n",
        "Crie uma máscara para números pares de `0…19` e use-a para filtrar o vetor."
      ],
      "metadata": {
        "id": "5gfYs9jMLm3o"
      }
    },
    {
      "cell_type": "code",
      "source": [
        "import numpy as np\n",
        "\n",
        "v = np.arange(20)\n",
        "\n",
        "mascara = (v % 2 == 0)\n",
        "pares = v[mascara]\n",
        "\n",
        "print(\"Máscara:\", mascara)\n",
        "print(\"Números pares:\", pares)"
      ],
      "metadata": {
        "id": "hzICzPoxLnEo"
      },
      "execution_count": null,
      "outputs": []
    },
    {
      "cell_type": "markdown",
      "source": [
        "### 20. Lista de listas → array  _(fácil)_\n",
        "\n",
        "Converta `[[1,2,3],[4,5,6]]` em `ndarray`, verifique `shape` e `dtype`.\n"
      ],
      "metadata": {
        "id": "bz3MPf2hLngw"
      }
    },
    {
      "cell_type": "code",
      "source": [
        "import numpy as np\n",
        "\n",
        "lista = [[1, 2, 3], [4, 5, 6]]\n",
        "array = np.array(lista)\n",
        "\n",
        "print(\"Array:\\n\", array)\n",
        "print(\"Shape:\", array.shape)\n",
        "print(\"Tipo de dados:\", array.dtype)"
      ],
      "metadata": {
        "id": "tEjwGPshLnsY"
      },
      "execution_count": null,
      "outputs": []
    },
    {
      "cell_type": "markdown",
      "source": [
        "### 21. Datas básicas  _(fácil)_\n",
        "\n",
        "Crie um array de datas diárias de 2025-01-01 a 2025-01-07 (inclusive)."
      ],
      "metadata": {
        "id": "caRH6ilNLn34"
      }
    },
    {
      "cell_type": "code",
      "source": [
        "import numpy as np\n",
        "\n",
        "datas = np.arange('2025-01-01', '2025-01-08', dtype='datetime64[D]')\n",
        "print(datas)"
      ],
      "metadata": {
        "id": "IN7F61H6Lodx"
      },
      "execution_count": null,
      "outputs": []
    },
    {
      "cell_type": "markdown",
      "source": [
        "### 22. Centralizar colunas  _(fácil)_\n",
        "\n",
        "Dada `A = np.array([[1.,2.,3.],[4.,5.,6.]])`, subtraia a média de cada coluna."
      ],
      "metadata": {
        "id": "-WweDiXcLorR"
      }
    },
    {
      "cell_type": "code",
      "source": [
        "A = np.array([[1.,2.,3.],[4.,5.,6.]])\n",
        "A_centralizada = A - A.mean(axis=0)\n",
        "print(A_centralizada)"
      ],
      "metadata": {
        "id": "pK7iQ8ApLpCw"
      },
      "execution_count": null,
      "outputs": []
    },
    {
      "cell_type": "markdown",
      "source": [
        "### 23. Produto elemento-a-elemento vs. escalar  _(fácil)_\n",
        "\n",
        "Dadas `a=[1,2,3]` e `b=[4,5,6]`, calcule produto elemento a elemento e o produto escalar."
      ],
      "metadata": {
        "id": "9e8GdviTLpWZ"
      }
    },
    {
      "cell_type": "code",
      "source": [
        "a = np.array([1,2,3])\n",
        "b = np.array([4,5,6])\n",
        "\n",
        "produto_elemento = a * b\n",
        "\n",
        "produto_escalar = np.dot(a, b)\n",
        "\n",
        "print(\"Elemento a elemento:\", produto_elemento)\n",
        "print(\"Produto escalar:\", produto_escalar)"
      ],
      "metadata": {
        "id": "fVK2q7j4LpiZ"
      },
      "execution_count": null,
      "outputs": []
    },
    {
      "cell_type": "markdown",
      "source": [
        "### 24. Troca de colunas  _(fácil)_\n",
        "\n",
        "Troque as colunas 0 e 2 de `A = np.arange(12).reshape(3,4)` sem copiar (sempre que possível)."
      ],
      "metadata": {
        "id": "52SThNdSMwzQ"
      }
    },
    {
      "cell_type": "code",
      "source": [
        "A = np.arange(12).reshape(3,4)\n",
        "A[:, [0,2]] = A[:, [2,0]]\n",
        "print(A)"
      ],
      "metadata": {
        "id": "7hgjn3G0MxIv"
      },
      "execution_count": null,
      "outputs": []
    },
    {
      "cell_type": "markdown",
      "source": [
        "### 25. Flatten vs. ravel  _(médio)_\n",
        "\n",
        "Mostre a diferença entre `flatten()` (cópia) e `ravel()` (view quando possível). Modifique o resultado de `ravel()` e observe o original."
      ],
      "metadata": {
        "id": "94DF4AxgMxhf"
      }
    },
    {
      "cell_type": "code",
      "source": [
        "A = np.array([[1,2],[3,4]])\n",
        "\n",
        "flat = A.flatten()\n",
        "ravel = A.ravel()\n",
        "\n",
        "ravel[0] = 99\n",
        "\n",
        "print(\"Original após alterar ravel:\\n\", A)\n",
        "print(\"Flatten (cópia, não altera original):\", flat)\n",
        "print(\"Ravel (view, altera original):\", ravel)"
      ],
      "metadata": {
        "id": "0s6JM9kwMxv3"
      },
      "execution_count": null,
      "outputs": []
    },
    {
      "cell_type": "markdown",
      "source": [
        "### 26. Tabuleiro 8×8  _(médio)_\n",
        "\n",
        "Crie uma matriz 8×8 com padrão de tabuleiro (0 e 1 alternados)."
      ],
      "metadata": {
        "id": "tML-8YtGMyTP"
      }
    },
    {
      "cell_type": "code",
      "source": [
        "tabuleiro = np.zeros((8,8), dtype=int)\n",
        "tabuleiro[1::2, ::2] = 1\n",
        "tabuleiro[::2, 1::2] = 1\n",
        "print(tabuleiro)"
      ],
      "metadata": {
        "id": "yccB7EAXMyjo"
      },
      "execution_count": null,
      "outputs": []
    },
    {
      "cell_type": "markdown",
      "source": [
        "### 27. np.where condicional  _(médio)_\n",
        "\n",
        "Dado `x = np.arange(-5,6)`, substitua negativos por 0 e mantenha não-negativos."
      ],
      "metadata": {
        "id": "yexHzWetMyzn"
      }
    },
    {
      "cell_type": "code",
      "source": [
        "x = np.arange(-5, 6)\n",
        "resultado = np.where(x < 0, 0, x)\n",
        "print(resultado)"
      ],
      "metadata": {
        "id": "6a9gtm5jMzE_"
      },
      "execution_count": null,
      "outputs": []
    },
    {
      "cell_type": "markdown",
      "source": [
        "### 28. Precisão de média  _(médio)_\n",
        "\n",
        "Gere 1_000_000 floats uniformes em [0,1) e compute a média. Compare com o valor teórico 0.5 (erro absoluto)."
      ],
      "metadata": {
        "id": "tqSQzJWHMzUf"
      }
    },
    {
      "cell_type": "code",
      "source": [
        "rng = np.random.default_rng(42)\n",
        "valores = rng.random(1_000_000)\n",
        "\n",
        "media = valores.mean()\n",
        "erro = abs(media - 0.5)\n",
        "\n",
        "print(\"Média:\", media)\n",
        "print(\"Erro absoluto:\", erro)"
      ],
      "metadata": {
        "id": "0tF7nrmeMzpo"
      },
      "execution_count": null,
      "outputs": []
    },
    {
      "cell_type": "markdown",
      "source": [
        "### 29. Produto cartesiano (broadcasting)  _(médio)_\n",
        "\n",
        "Dado `a=[1,2,3]` e `b=[10,20,30,40]`, gere todas as somas possíveis `a_i + b_j` via broadcasting (matriz 3×4)."
      ],
      "metadata": {
        "id": "0hzJ9bphMz2A"
      }
    },
    {
      "cell_type": "code",
      "source": [
        "a = np.array([1,2,3]).reshape(-1,1)\n",
        "b = np.array([10,20,30,40])\n",
        "\n",
        "somas = a + b\n",
        "print(somas)"
      ],
      "metadata": {
        "id": "yfnwQreYM0LA"
      },
      "execution_count": null,
      "outputs": []
    },
    {
      "cell_type": "markdown",
      "source": [
        "### 30. Convolução 1D simples  _(médio)_\n",
        "\n",
        "Implemente uma convolução 1D 'valid' de um sinal `s` por um kernel `k` usando `np.flip` e `np.lib.stride_tricks.sliding_window_view` (sem `np.convolve`)."
      ],
      "metadata": {
        "id": "vQgVFmaPM0V_"
      }
    },
    {
      "cell_type": "code",
      "source": [
        "from numpy.lib.stride_tricks import sliding_window_view\n",
        "import numpy as np\n",
        "\n",
        "s = np.array([1, 2, 3, 4, 5])\n",
        "k = np.array([2, 1])\n",
        "\n",
        "janelas = sliding_window_view(s, k.shape[0])\n",
        "\n",
        "resultado = np.sum(janelas * np.flip(k), axis=1)\n",
        "print(resultado)"
      ],
      "metadata": {
        "id": "1tpSAL4hM0rw"
      },
      "execution_count": null,
      "outputs": []
    },
    {
      "cell_type": "markdown",
      "source": [
        "### 31. Normalização min–max por coluna  _(médio)_\n",
        "\n",
        "Dada `A = rng.normal(size=(5,4))`, normalize cada coluna para o intervalo [0,1], tratando colunas constantes."
      ],
      "metadata": {
        "id": "t2EUr38UM1XQ"
      }
    },
    {
      "cell_type": "code",
      "source": [
        "import numpy as np\n",
        "\n",
        "rng = np.random.default_rng(42)\n",
        "A = rng.normal(size=(5,4))\n",
        "print(\"Original:\\n\", A)\n",
        "\n",
        "min_col = A.min(axis=0)\n",
        "max_col = A.max(axis=0)\n",
        "range_col = max_col - min_col\n",
        "\n",
        "range_col[range_col == 0] = 1\n",
        "\n",
        "A_norm = (A - min_col) / range_col\n",
        "print(\"\\nNormalizado:\\n\", A_norm)\n"
      ],
      "metadata": {
        "id": "Le3vQcgCM1pw"
      },
      "execution_count": null,
      "outputs": []
    },
    {
      "cell_type": "markdown",
      "source": [
        "### 32. Ordenar por coluna  _(médio)_\n",
        "\n",
        "Ordene as linhas de `A = np.array([[3,9],[1,4],[2,5]])` pelo valor crescente da 2ª coluna."
      ],
      "metadata": {
        "id": "75KP_dMkM2DI"
      }
    },
    {
      "cell_type": "code",
      "source": [
        "import numpy as np\n",
        "\n",
        "A = np.array([[3,9],[1,4],[2,5]])\n",
        "\n",
        "A_ordenado = A[A[:, 1].argsort()]\n",
        "print(A_ordenado)"
      ],
      "metadata": {
        "id": "TyHenF8BM2PI"
      },
      "execution_count": null,
      "outputs": []
    },
    {
      "cell_type": "markdown",
      "source": [
        "### 33. Únicos + contagens + primeira ocorrência  _(médio)_\n",
        "\n",
        "Para `x = [3,1,2,3,2,3,1]`, obtenha valores únicos, contagens e índice da primeira ocorrência de cada valor."
      ],
      "metadata": {
        "id": "QODl7ZFzM2Y4"
      }
    },
    {
      "cell_type": "code",
      "source": [
        "import numpy as np\n",
        "\n",
        "x = np.array([3,1,2,3,2,3,1])\n",
        "\n",
        "valores, indices, contagens = np.unique(x, return_index=True, return_counts=True)\n",
        "\n",
        "print(\"Valores únicos:\", valores)\n",
        "print(\"Primeira ocorrência:\", indices)\n",
        "print(\"Contagens:\", contagens)"
      ],
      "metadata": {
        "id": "gkOu53NlM2pg",
        "colab": {
          "base_uri": "https://localhost:8080/"
        },
        "outputId": "45507c1b-9798-4543-def3-30fa1807e9c5"
      },
      "execution_count": 5,
      "outputs": [
        {
          "output_type": "stream",
          "name": "stdout",
          "text": [
            "Valores únicos: [1 2 3]\n",
            "Primeira ocorrência: [1 2 0]\n",
            "Contagens: [2 2 3]\n"
          ]
        }
      ]
    },
    {
      "cell_type": "markdown",
      "source": [
        "### 34. Matriz de distâncias 2D  _(médio)_\n",
        "\n",
        "Dada `P` com N pontos 2D, compute a matriz NxN de distâncias euclidianas sem loops explícitos."
      ],
      "metadata": {
        "id": "99UaLJZ-M2-Q"
      }
    },
    {
      "cell_type": "code",
      "source": [
        "import numpy as np\n",
        "\n",
        "P = np.array([[0,0], [1,0], [0,1], [1,1]])  # exemplo com 4 pontos\n",
        "\n",
        "diff = P[:, np.newaxis, :] - P[np.newaxis, :, :]\n",
        "\n",
        "D = np.sqrt(np.sum(diff**2, axis=-1))\n",
        "print(D)"
      ],
      "metadata": {
        "id": "kRym_tT3M3Og",
        "colab": {
          "base_uri": "https://localhost:8080/",
          "height": 211
        },
        "outputId": "6294710d-c651-4c45-934a-062a1fce5952"
      },
      "execution_count": 3,
      "outputs": [
        {
          "output_type": "error",
          "ename": "NameError",
          "evalue": "name 'np' is not defined",
          "traceback": [
            "\u001b[0;31m---------------------------------------------------------------------------\u001b[0m",
            "\u001b[0;31mNameError\u001b[0m                                 Traceback (most recent call last)",
            "\u001b[0;32m/tmp/ipython-input-3329520875.py\u001b[0m in \u001b[0;36m<cell line: 0>\u001b[0;34m()\u001b[0m\n\u001b[0;32m----> 1\u001b[0;31m \u001b[0mP\u001b[0m \u001b[0;34m=\u001b[0m \u001b[0mnp\u001b[0m\u001b[0;34m.\u001b[0m\u001b[0marray\u001b[0m\u001b[0;34m(\u001b[0m\u001b[0;34m[\u001b[0m\u001b[0;34m[\u001b[0m\u001b[0;36m0\u001b[0m\u001b[0;34m,\u001b[0m\u001b[0;36m0\u001b[0m\u001b[0;34m]\u001b[0m\u001b[0;34m,\u001b[0m \u001b[0;34m[\u001b[0m\u001b[0;36m1\u001b[0m\u001b[0;34m,\u001b[0m\u001b[0;36m0\u001b[0m\u001b[0;34m]\u001b[0m\u001b[0;34m,\u001b[0m \u001b[0;34m[\u001b[0m\u001b[0;36m0\u001b[0m\u001b[0;34m,\u001b[0m\u001b[0;36m1\u001b[0m\u001b[0;34m]\u001b[0m\u001b[0;34m,\u001b[0m \u001b[0;34m[\u001b[0m\u001b[0;36m1\u001b[0m\u001b[0;34m,\u001b[0m\u001b[0;36m1\u001b[0m\u001b[0;34m]\u001b[0m\u001b[0;34m]\u001b[0m\u001b[0;34m)\u001b[0m  \u001b[0;31m# exemplo com 4 pontos\u001b[0m\u001b[0;34m\u001b[0m\u001b[0;34m\u001b[0m\u001b[0m\n\u001b[0m\u001b[1;32m      2\u001b[0m \u001b[0;34m\u001b[0m\u001b[0m\n\u001b[1;32m      3\u001b[0m \u001b[0mdiff\u001b[0m \u001b[0;34m=\u001b[0m \u001b[0mP\u001b[0m\u001b[0;34m[\u001b[0m\u001b[0;34m:\u001b[0m\u001b[0;34m,\u001b[0m \u001b[0mnp\u001b[0m\u001b[0;34m.\u001b[0m\u001b[0mnewaxis\u001b[0m\u001b[0;34m,\u001b[0m \u001b[0;34m:\u001b[0m\u001b[0;34m]\u001b[0m \u001b[0;34m-\u001b[0m \u001b[0mP\u001b[0m\u001b[0;34m[\u001b[0m\u001b[0mnp\u001b[0m\u001b[0;34m.\u001b[0m\u001b[0mnewaxis\u001b[0m\u001b[0;34m,\u001b[0m \u001b[0;34m:\u001b[0m\u001b[0;34m,\u001b[0m \u001b[0;34m:\u001b[0m\u001b[0;34m]\u001b[0m\u001b[0;34m\u001b[0m\u001b[0;34m\u001b[0m\u001b[0m\n\u001b[1;32m      4\u001b[0m \u001b[0;34m\u001b[0m\u001b[0m\n\u001b[1;32m      5\u001b[0m \u001b[0mD\u001b[0m \u001b[0;34m=\u001b[0m \u001b[0mnp\u001b[0m\u001b[0;34m.\u001b[0m\u001b[0msqrt\u001b[0m\u001b[0;34m(\u001b[0m\u001b[0mnp\u001b[0m\u001b[0;34m.\u001b[0m\u001b[0msum\u001b[0m\u001b[0;34m(\u001b[0m\u001b[0mdiff\u001b[0m\u001b[0;34m**\u001b[0m\u001b[0;36m2\u001b[0m\u001b[0;34m,\u001b[0m \u001b[0maxis\u001b[0m\u001b[0;34m=\u001b[0m\u001b[0;34m-\u001b[0m\u001b[0;36m1\u001b[0m\u001b[0;34m)\u001b[0m\u001b[0;34m)\u001b[0m\u001b[0;34m\u001b[0m\u001b[0;34m\u001b[0m\u001b[0m\n",
            "\u001b[0;31mNameError\u001b[0m: name 'np' is not defined"
          ]
        }
      ]
    },
    {
      "cell_type": "markdown",
      "source": [
        "### 35. Covariância e correlação  _(médio)_\n",
        "\n",
        "Simule uma matriz 1000×3 de N(0,1) e compute `cov` (colunas como variáveis) e `corrcoef`."
      ],
      "metadata": {
        "id": "Yu1sRKGsM3dw"
      }
    },
    {
      "cell_type": "code",
      "source": [
        "import numpy as np\n",
        "\n",
        "rng = np.random.default_rng(42)\n",
        "X = rng.normal(size=(1000, 3))\n",
        "\n",
        "cov = np.cov(X, rowvar=False)\n",
        "corr = np.corrcoef(X, rowvar=False)\n",
        "\n",
        "print(\"Covariância:\\n\", cov)\n",
        "print(\"\\nCorrelação:\\n\", corr)"
      ],
      "metadata": {
        "id": "eqEg-dLUM35A",
        "colab": {
          "base_uri": "https://localhost:8080/",
          "height": 211
        },
        "outputId": "fa29a51b-f600-4f76-c0b4-8abb0bf1cf1d"
      },
      "execution_count": 2,
      "outputs": [
        {
          "output_type": "error",
          "ename": "NameError",
          "evalue": "name 'np' is not defined",
          "traceback": [
            "\u001b[0;31m---------------------------------------------------------------------------\u001b[0m",
            "\u001b[0;31mNameError\u001b[0m                                 Traceback (most recent call last)",
            "\u001b[0;32m/tmp/ipython-input-849263093.py\u001b[0m in \u001b[0;36m<cell line: 0>\u001b[0;34m()\u001b[0m\n\u001b[0;32m----> 1\u001b[0;31m \u001b[0mrng\u001b[0m \u001b[0;34m=\u001b[0m \u001b[0mnp\u001b[0m\u001b[0;34m.\u001b[0m\u001b[0mrandom\u001b[0m\u001b[0;34m.\u001b[0m\u001b[0mdefault_rng\u001b[0m\u001b[0;34m(\u001b[0m\u001b[0;36m42\u001b[0m\u001b[0;34m)\u001b[0m\u001b[0;34m\u001b[0m\u001b[0;34m\u001b[0m\u001b[0m\n\u001b[0m\u001b[1;32m      2\u001b[0m \u001b[0mX\u001b[0m \u001b[0;34m=\u001b[0m \u001b[0mrng\u001b[0m\u001b[0;34m.\u001b[0m\u001b[0mnormal\u001b[0m\u001b[0;34m(\u001b[0m\u001b[0msize\u001b[0m\u001b[0;34m=\u001b[0m\u001b[0;34m(\u001b[0m\u001b[0;36m1000\u001b[0m\u001b[0;34m,\u001b[0m \u001b[0;36m3\u001b[0m\u001b[0;34m)\u001b[0m\u001b[0;34m)\u001b[0m\u001b[0;34m\u001b[0m\u001b[0;34m\u001b[0m\u001b[0m\n\u001b[1;32m      3\u001b[0m \u001b[0;34m\u001b[0m\u001b[0m\n\u001b[1;32m      4\u001b[0m \u001b[0mcov\u001b[0m \u001b[0;34m=\u001b[0m \u001b[0mnp\u001b[0m\u001b[0;34m.\u001b[0m\u001b[0mcov\u001b[0m\u001b[0;34m(\u001b[0m\u001b[0mX\u001b[0m\u001b[0;34m,\u001b[0m \u001b[0mrowvar\u001b[0m\u001b[0;34m=\u001b[0m\u001b[0;32mFalse\u001b[0m\u001b[0;34m)\u001b[0m\u001b[0;34m\u001b[0m\u001b[0;34m\u001b[0m\u001b[0m\n\u001b[1;32m      5\u001b[0m \u001b[0mcorr\u001b[0m \u001b[0;34m=\u001b[0m \u001b[0mnp\u001b[0m\u001b[0;34m.\u001b[0m\u001b[0mcorrcoef\u001b[0m\u001b[0;34m(\u001b[0m\u001b[0mX\u001b[0m\u001b[0;34m,\u001b[0m \u001b[0mrowvar\u001b[0m\u001b[0;34m=\u001b[0m\u001b[0;32mFalse\u001b[0m\u001b[0;34m)\u001b[0m\u001b[0;34m\u001b[0m\u001b[0;34m\u001b[0m\u001b[0m\n",
            "\u001b[0;31mNameError\u001b[0m: name 'np' is not defined"
          ]
        }
      ]
    },
    {
      "cell_type": "markdown",
      "source": [
        "### 36. One-hot encoding  _(médio)_\n",
        "\n",
        "Converta os rótulos `y = [2,0,1,2]` em codificação one-hot usando apenas operações NumPy."
      ],
      "metadata": {
        "id": "7BxyXD7OM4EY"
      }
    },
    {
      "cell_type": "code",
      "source": [
        "import numpy as np\n",
        "\n",
        "y = np.array([2, 0, 1, 2])\n",
        "n_classes = y.max() + 1\n",
        "\n",
        "one_hot = np.eye(n_classes)[y]\n",
        "print(one_hot)"
      ],
      "metadata": {
        "id": "7w8EsqFSM4fQ",
        "colab": {
          "base_uri": "https://localhost:8080/"
        },
        "outputId": "e2056356-733b-492b-ca03-9ee6b65d9579"
      },
      "execution_count": 6,
      "outputs": [
        {
          "output_type": "stream",
          "name": "stdout",
          "text": [
            "[[0. 0. 1.]\n",
            " [1. 0. 0.]\n",
            " [0. 1. 0.]\n",
            " [0. 0. 1.]]\n"
          ]
        }
      ]
    },
    {
      "cell_type": "markdown",
      "source": [
        "### 37. k-means 2D (NumPy puro)  _(difícil)_\n",
        "\n",
        "Implemente k-means com K=3 em pontos 2D: inicialize centróides aleatórios, faça 10 iterações de (1) atribuir pontos ao centróide mais próximo e (2) recomputar centróides.\n"
      ],
      "metadata": {
        "id": "UAxaMkJfM45A"
      }
    },
    {
      "cell_type": "code",
      "source": [
        "import numpy as np\n",
        "\n",
        "rng = np.random.default_rng(42)\n",
        "X = rng.random((100, 2))\n",
        "\n",
        "K = 3\n",
        "\n",
        "centroides = X[rng.choice(len(X), K, replace=False)]\n",
        "\n",
        "for it in range(10):\n",
        "\n",
        "    distancias = np.linalg.norm(X[:, np.newaxis, :] - centroides[np.newaxis, :, :], axis=2)\n",
        "    grupos = np.argmin(distancias, axis=1)\n",
        "\n",
        "    novos_centroides = np.array([X[grupos == k].mean(axis=0) for k in range(K)])\n",
        "\n",
        "    centroides = novos_centroides\n",
        "\n",
        "print(\"Centróides finais:\\n\", centroides)\n"
      ],
      "metadata": {
        "id": "CZgIwd76Nyke"
      },
      "execution_count": null,
      "outputs": []
    },
    {
      "cell_type": "markdown",
      "source": [
        "### 38. PCA básica (autovetores)  _(difícil)_\n",
        "\n",
        "Implemente PCA 2D→1D: centralize `X` (N×2), calcule covariância, autovetores, projete em 1D e reconstrua aproximado.\n"
      ],
      "metadata": {
        "id": "gl38XWk1M6bY"
      }
    },
    {
      "cell_type": "code",
      "source": [
        "import numpy as np\n",
        "\n",
        "rng = np.random.default_rng(seed=42)\n",
        "\n",
        "X = rng.normal(size=(100, 2))\n",
        "X[:, 1] = X[:, 0] * 0.8 + rng.normal(size=100) * 0.3\n",
        "print(\"Shape dados X:\", X.shape)\n",
        "\n",
        "X_mean = X.mean(axis=0)\n",
        "X_centered = X - X_mean\n",
        "\n",
        "cov_matrix = np.cov(X_centered, rowvar=False)\n",
        "print(\"\\nMatriz Covariância (2x2):\\n\", cov_matrix)\n",
        "\n",
        "autovalores, autovetores = np.linalg.eigh(cov_matrix)\n",
        "print(\"\\nAutovalores:\", autovalores)\n",
        "print(\"Autovetores:\\n\", autovetores)\n",
        "\n",
        "indices_sort = np.argsort(autovalores)[::-1]\n",
        "autovetores_sorted = autovetores[:, indices_sort]\n",
        "\n",
        "W = autovetores_sorted[:, :1]\n",
        "print(\"\\n1º Componente Principal (W):\\n\", W)\n",
        "\n",
        "Z = X_centered @ W\n",
        "print(\"\\nDados Projetados (Z) (100x1) (primeiros 5):\", Z[:5].ravel())\n",
        "\n",
        "X_reconstruido_centered = Z @ W.T\n",
        "\n",
        "X_reconstruido = X_reconstruido_centered + X_mean\n",
        "print(\"\\nShape Reconstruído:\", X_reconstruido.shape)"
      ],
      "metadata": {
        "id": "ZbqH_adMM6rw"
      },
      "execution_count": null,
      "outputs": []
    },
    {
      "cell_type": "markdown",
      "source": [
        "### 39. Convolução 2D (im2col)  _(difícil)_\n",
        "\n",
        "Implemente convolução 2D 'valid' de uma imagem `I` por um kernel `K` usando `sliding_window_view` para gerar blocos e multiplicação matricial."
      ],
      "metadata": {
        "id": "mq5T8mhYM63o"
      }
    },
    {
      "cell_type": "code",
      "source": [
        "import numpy as np\n",
        "from numpy.lib.stride_tricks import sliding_window_view\n",
        "\n",
        "I = np.arange(25).reshape(5, 5).astype(float)\n",
        "K = np.array([[1, 0, -1],\n",
        "              [1, 0, -1],\n",
        "              [1, 0, -1]], dtype=float)\n",
        "\n",
        "kH, kW = K.shape\n",
        "iH, iW = I.shape\n",
        "\n",
        "views = sliding_window_view(I, window_shape=(kH, kW))\n",
        "print(f\"Shape Imagem: {I.shape}\")\n",
        "print(f\"Shape Kernel: {K.shape}\")\n",
        "print(f\"Shape das Janelas (Views): {views.shape}\")\n",
        "\n",
        "K_flat = K.ravel()\n",
        "print(f\"Shape Kernel achatado: {K_flat.shape}\")\n",
        "\n",
        "views_flat = views.reshape(-1, kH * kW)\n",
        "print(f\"Shape Janelas achatadas: {views_flat.shape}\")\n",
        "\n",
        "conv_flat = views_flat @ K_flat\n",
        "\n",
        "output_shape = (iH - kH + 1, iW - kW + 1)\n",
        "conv_2d = conv_flat.reshape(output_shape)\n",
        "\n",
        "print(\"\\nConvolução 2D 'valid' (resultado):\\n\", conv_2d)"
      ],
      "metadata": {
        "id": "WbKQ7iGoN1dG"
      },
      "execution_count": null,
      "outputs": []
    },
    {
      "cell_type": "markdown",
      "source": [
        "### 40. Sistemas lineares e resíduo  _(difícil)_\n",
        "\n",
        "Gere uma matriz A (100×100) bem-condicionada, um vetor b e resolva `Ax=b` com `np.linalg.solve`. Compute o resíduo relativo `||Ax−b||/||b||` e `cond(A)`."
      ],
      "metadata": {
        "id": "wMuYEJJQN1t-"
      }
    },
    {
      "cell_type": "code",
      "source": [
        "import numpy as np\n",
        "\n",
        "rng = np.random.default_rng(seed=42)\n",
        "\n",
        "N = 100\n",
        "\n",
        "A = rng.random(size=(N, N)) + np.eye(N) * N\n",
        "b = rng.random(size=N)\n",
        "\n",
        "x = np.linalg.solve(A, b)\n",
        "\n",
        "residuo = (A @ x) - b\n",
        "\n",
        "norma_residuo = np.linalg.norm(residuo)\n",
        "norma_b = np.linalg.norm(b)\n",
        "residuo_relativo = norma_residuo / norma_b\n",
        "\n",
        "cond_A = np.linalg.cond(A)\n",
        "\n",
        "print(f\"Sistema N={N}\")\n",
        "print(f\"Número de Condição cond(A): {cond_A}\")\n",
        "print(f\"Norma do Resíduo ||Ax - b||: {norma_residuo}\")\n",
        "print(f\"Norma de b ||b||: {norma_b}\")\n",
        "print(f\"Resíduo Relativo ||Ax - b|| / ||b||: {residuo_relativo}\")"
      ],
      "metadata": {
        "id": "wAa8tYMRN2A2"
      },
      "execution_count": null,
      "outputs": []
    },
    {
      "cell_type": "markdown",
      "source": [
        "### 41. Regressão linear (OLS) com NumPy  _(difícil)_\n",
        "\n",
        "Dado `X` (N×d) e `y`, calcule os coeficientes OLS usando `np.linalg.lstsq` e avalie RMSE no treino."
      ],
      "metadata": {
        "id": "gsqvRcvKN2O2"
      }
    },
    {
      "cell_type": "code",
      "source": [
        "Python\n",
        "\n",
        "import numpy as np\n",
        "\n",
        "rng = np.random.default_rng(seed=42)\n",
        "\n",
        "N, d = 100, 3\n",
        "X = rng.random(size=(N, d))\n",
        "\n",
        "beta_verdadeiro = np.array([5.0, -2.0, 1.5])\n",
        "intercepto_verdadeiro = 3.0\n",
        "ruido = rng.normal(scale=0.1, size=N)\n",
        "\n",
        "y = intercepto_verdadeiro + (X @ beta_verdadeiro) + ruido\n",
        "\n",
        "X_b = np.hstack([np.ones((N, 1)), X])\n",
        "print(f\"Shape X original: {X.shape}, Shape y: {y.shape}\")\n",
        "print(f\"Shape X com intercepto (X_b): {X_b.shape}\")\n",
        "\n",
        "coefs, _, _, _ = np.linalg.lstsq(X_b, y, rcond=None)\n",
        "\n",
        "intercepto_calc = coefs[0]\n",
        "betas_calc = coefs[1:]\n",
        "\n",
        "print(\"\\n--- Resultados OLS ---\")\n",
        "print(f\"Intercepto Verdadeiro (B0): {intercepto_verdadeiro:.4f}\")\n",
        "print(f\"Intercepto Calculado: {intercepto_calc:.4f}\")\n",
        "print(f\"\\nBetas Verdadeiros (B1, B2, B3): {beta_verdadeiro}\")\n",
        "print(f\"Betas Calculados: {betas_calc}\")\n",
        "\n",
        "y_pred = X_b @ coefs\n",
        "mse = np.mean((y - y_pred)**2)\n",
        "rmse = np.sqrt(mse)\n",
        "\n",
        "print(f\"\\nRMSE (no treino): {rmse:.5f}\")"
      ],
      "metadata": {
        "id": "mVrB2UdUN2q-"
      },
      "execution_count": null,
      "outputs": []
    },
    {
      "cell_type": "markdown",
      "source": [
        "### 42. Rolling window 2D com strides  _(difícil)_\n",
        "\n",
        "Usando `sliding_window_view`, compute a média local 3×3 de uma imagem 2D sem laços explícitos."
      ],
      "metadata": {
        "id": "nE5FSs3FN23m"
      }
    },
    {
      "cell_type": "code",
      "source": [
        "\n",
        "import numpy as np\n",
        "from numpy.lib.stride_tricks import sliding_window_view\n",
        "\n",
        "I = np.arange(36).reshape(6, 6)\n",
        "print(\"Imagem Original (6x6):\\n\", I)\n",
        "\n",
        "window_shape = (3, 3)\n",
        "\n",
        "views = sliding_window_view(I, window_shape=window_shape)\n",
        "print(\"\\nShape das Views (Janelas):\", views.shape)\n",
        "\n",
        "media_local = views.mean(axis=(2, 3))\n",
        "\n",
        "print(\"\\nMatriz de Média Local 3x3 (4x4):\\n\", media_local)"
      ],
      "metadata": {
        "id": "XmcN_NRwN3XG"
      },
      "execution_count": null,
      "outputs": []
    }
  ]
}